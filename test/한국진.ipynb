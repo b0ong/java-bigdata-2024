{
 "cells": [
  {
   "cell_type": "code",
   "execution_count": 8,
   "metadata": {},
   "outputs": [
    {
     "name": "stdout",
     "output_type": "stream",
     "text": [
      "입력하신 주민번호는 여성입니다.\n",
      "올바른 주민번호를 입력하세요.\n",
      "입력하신 주민번호는 남성입니다.\n"
     ]
    }
   ],
   "source": [
    "## 1번 문제\n",
    "def check_gender(id_number):\n",
    "    # 주민번호에서 7번째 숫자를 확인하여 성별을 판별\n",
    "    gender_digit = int(id_number[6])\n",
    "    if gender_digit in [1, 3, 5]:\n",
    "        return '남성'\n",
    "    elif gender_digit in [2, 4, 6]:\n",
    "        return '여성'\n",
    "    else:\n",
    "        return '알 수 없음'\n",
    "\n",
    "def main():\n",
    "    while True:\n",
    "        id_number = input(\"주민등록번호를 입력하세요 (예: 123456-1234567): \")\n",
    "        # 입력된 주민번호에서 '-'를 제거\n",
    "        id_number = id_number.replace('-', '')\n",
    "        # 입력된 주민번호가 유효한지 확인\n",
    "        if len(id_number) != 13 or not id_number.isdigit():\n",
    "            print(\"올바른 주민번호를 입력하세요.\")\n",
    "            continue\n",
    "        gender = check_gender(id_number)\n",
    "        print(f\"입력하신 주민번호는 {gender}입니다.\")\n",
    "\n",
    "        choice = input(\"다른 주민번호를 확인하시겠습니까? (예/아니오): \")\n",
    "        if choice.lower() != '예':\n",
    "            break\n",
    "\n",
    "if __name__ == \"__main__\":\n",
    "    main()"
   ]
  },
  {
   "cell_type": "code",
   "execution_count": 2,
   "metadata": {},
   "outputs": [
    {
     "name": "stdout",
     "output_type": "stream",
     "text": [
      "오늘은 월요일 입니다.\n"
     ]
    }
   ],
   "source": [
    "## 2번문제\n",
    "def main():\n",
    "    # 영어 요일과 한국어 요일을 매핑하는 딕셔너리 생성\n",
    "    day_mapping = {\n",
    "        'MON': '월요일',\n",
    "        'TUE': '화요일',\n",
    "        'WED': '수요일',\n",
    "        'TUR': '목요일',\n",
    "        'FRI': '금요일',\n",
    "        'SAT': '토요일',\n",
    "        'SUN': '일요일'\n",
    "    }\n",
    "\n",
    "    # 사용자로부터 영어 요일 입력\n",
    "    english_day = input(\"일주일의 요일을 영어로 입력하세요 (예: MON, TUE, WED, TUR, FRI, SAT, SUN): \")\n",
    "\n",
    "    # 입력된 영어 요일이 딕셔너리에 있는지 확인하고 해당하는 한국어 요일로 출력\n",
    "    if english_day in day_mapping:\n",
    "        korean_day = day_mapping[english_day]\n",
    "        print(f\"오늘은 {korean_day} 입니다.\")\n",
    "    else:\n",
    "        print(\"잘못된 요일을 입력하셨습니다.\")\n",
    "\n",
    "if __name__ == \"__main__\":\n",
    "    main()"
   ]
  },
  {
   "cell_type": "code",
   "execution_count": 3,
   "metadata": {},
   "outputs": [
    {
     "name": "stdout",
     "output_type": "stream",
     "text": [
      "어서옵쇼, 손님!!\n"
     ]
    }
   ],
   "source": [
    "## 3번\n",
    "def main():\n",
    "    age = int(input(\"나이를 입력하세요: \"))\n",
    "\n",
    "    if age < 19:\n",
    "        print(\"애들은 가라\")\n",
    "    else:\n",
    "        print(\"어서옵쇼, 손님!!\")\n",
    "\n",
    "if __name__ == \"__main__\":\n",
    "    main()\n"
   ]
  },
  {
   "cell_type": "code",
   "execution_count": 4,
   "metadata": {},
   "outputs": [],
   "source": [
    "## 4번\n",
    "# result.txt 파일을 쓰기 모드로 열기\n",
    "with open('result.txt', 'w') as f:\n",
    "  # 1부터 1000까지 반복\n",
    "  num = 1\n",
    "  while num <= 1000:\n",
    "    # 3과 5의 배수인지 확인\n",
    "    if num % 3 == 0 and num % 5 == 0:\n",
    "      # 3과 5의 배수라면 result.txt 파일에 저장\n",
    "      f.write(str(num) + '\\n')\n",
    "    # 다음 숫자로 pass\n",
    "    num += 1"
   ]
  },
  {
   "cell_type": "code",
   "execution_count": 5,
   "metadata": {},
   "outputs": [
    {
     "name": "stdout",
     "output_type": "stream",
     "text": [
      "2024\\03%07 10**17//01\n"
     ]
    }
   ],
   "source": [
    "## 5번\n",
    "from datetime import datetime\n",
    "\n",
    "def main():\n",
    "    # 현재 날짜와 시간을 가져오기\n",
    "    now = datetime.now()\n",
    "\n",
    "    # 날짜와 시간을 지정된 형식에 맞게 문자열로 변환\n",
    "    formatted_datetime = now.strftime(\"%Y\\\\%m%%%d %H**%M//%S\")\n",
    "\n",
    "    # 출력\n",
    "    print(formatted_datetime)\n",
    "\n",
    "if __name__ == \"__main__\":\n",
    "    main()"
   ]
  }
 ],
 "metadata": {
  "kernelspec": {
   "display_name": "Python 3",
   "language": "python",
   "name": "python3"
  },
  "language_info": {
   "codemirror_mode": {
    "name": "ipython",
    "version": 3
   },
   "file_extension": ".py",
   "mimetype": "text/x-python",
   "name": "python",
   "nbconvert_exporter": "python",
   "pygments_lexer": "ipython3",
   "version": "3.11.7"
  }
 },
 "nbformat": 4,
 "nbformat_minor": 2
}
